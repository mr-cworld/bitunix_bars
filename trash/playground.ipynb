{
 "cells": [
  {
   "cell_type": "markdown",
   "metadata": {},
   "source": [
    "Playground\n"
   ]
  },
  {
   "cell_type": "code",
   "execution_count": 1,
   "metadata": {},
   "outputs": [],
   "source": [
    "import pandas as pd\n",
    "import numpy as np\n",
    "import matplotlib.pyplot as plt\n",
    "import pathlib as Path\n",
    "from datetime import datetime\n",
    "import os, sys\n",
    "import string"
   ]
  },
  {
   "cell_type": "code",
   "execution_count": 2,
   "metadata": {},
   "outputs": [
    {
     "name": "stdout",
     "output_type": "stream",
     "text": [
      "Parent directory added to sys.path: c:\\Users\\micha\\OneDrive\\Desktop\\2024 Going Home\\BitUnix_Api_Collector\n"
     ]
    }
   ],
   "source": [
    "# Get the current working directory\n",
    "current_dir = os.getcwd()\n",
    "\n",
    "# Navigate to the parent directory\n",
    "parent_dir = os.path.abspath(os.path.join(current_dir, '..'))\n",
    "\n",
    "# Append the parent directory to sys.path\n",
    "sys.path.append(parent_dir)\n",
    "\n",
    "# Now import the required modules\n",
    "from utils.storage_manager import StorageManager\n",
    "from data_processing.indicators import Indicator\n",
    "\n",
    "# (Optional) Verify the path addition\n",
    "print(\"Parent directory added to sys.path:\", parent_dir)\n"
   ]
  },
  {
   "cell_type": "code",
   "execution_count": null,
   "metadata": {},
   "outputs": [
    {
     "name": "stdout",
     "output_type": "stream",
     "text": [
      "Processed Path for 15m: ..\\storage\\processed\\10-07-2024\\BTCUSDT\\15m\n",
      "Processed Path for 30m: ..\\storage\\processed\\10-07-2024\\BTCUSDT\\30m\n",
      "Processed Path for 60m: ..\\storage\\processed\\10-07-2024\\BTCUSDT\\60m\n",
      "Processed Path for 240m: ..\\storage\\processed\\10-07-2024\\BTCUSDT\\240m\n"
     ]
    }
   ],
   "source": [
    "storage_manager = StorageManager(base_path = '../storage')\n",
    "today_str = datetime.now().strftime('%m-%d-%Y')\n",
    "\n",
    "symbol = 'BTCUSDT'\n",
    "timeframes = ['15m','30m','60m','240m']\n",
    "\n",
    "for timeframe in timeframes:\n",
    "    processed_path = storage_manager.get_processed_path(date=today_str, symbol=symbol, timeframe=timeframe)\n",
    "    print(f\"Processed Path for {timeframe}: {processed_path}\")\n",
    "\n",
    "# help me to get data stored for all coins\n",
    "# get all coins\n",
    "# get all timeframes\n",
    "# get all dates\n",
    "\n",
    "for symbol in storage_manager.get_symbols():\n",
    "    for timeframe in storage_manager.get_timeframes():\n",
    "        for date in storage_manager.get_dates():\n",
    "            processed_path = storage_manager.get_processed_path(date=date, symbol=symbol, timeframe=timeframe)\n",
    "            print(f\"Processed Path for {timeframe}: {processed_path}\")"
   ]
  }
 ],
 "metadata": {
  "kernelspec": {
   "display_name": "dev",
   "language": "python",
   "name": "python3"
  },
  "language_info": {
   "codemirror_mode": {
    "name": "ipython",
    "version": 3
   },
   "file_extension": ".py",
   "mimetype": "text/x-python",
   "name": "python",
   "nbconvert_exporter": "python",
   "pygments_lexer": "ipython3",
   "version": "3.10.14"
  }
 },
 "nbformat": 4,
 "nbformat_minor": 2
}
